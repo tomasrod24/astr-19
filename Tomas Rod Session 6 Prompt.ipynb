{
 "cells": [
  {
   "cell_type": "code",
   "execution_count": null,
   "id": "6e19799f",
   "metadata": {},
   "outputs": [],
   "source": [
    "import numpy as np\n",
    "import matplotlib as plt"
   ]
  },
  {
   "cell_type": "markdown",
   "id": "6201dcf4",
   "metadata": {},
   "source": [
    "This function returns the value of sin(x)"
   ]
  },
  {
   "cell_type": "code",
   "execution_count": null,
   "id": "7f388648",
   "metadata": {},
   "outputs": [],
   "source": [
    "def sinFunction(x):\n",
    "    return np.sin(x)"
   ]
  },
  {
   "cell_type": "markdown",
   "id": "23629599",
   "metadata": {},
   "source": [
    "This function returns the value of cos(x)"
   ]
  },
  {
   "cell_type": "code",
   "execution_count": null,
   "id": "b97f1990",
   "metadata": {},
   "outputs": [],
   "source": [
    "def cosFunction(x):\n",
    "    return np.cos(x)"
   ]
  },
  {
   "cell_type": "markdown",
   "id": "184cb0e3",
   "metadata": {},
   "source": [
    "This part of the code is responsible for creating the array from 0 to 2 pi with a thousand entries and also for \"tabulating\" x, sin(x), and cos(x) through that array. The for loop excutes this and in addition prints out those values in their own separate columns."
   ]
  },
  {
   "cell_type": "code",
   "execution_count": null,
   "id": "8d3d0fdb",
   "metadata": {},
   "outputs": [],
   "source": [
    "x = np.linspace(0,2,1000)\n",
    "for i in range(1000):\n",
    "    print(f\"{x[i]:1.8e}   {np.sin(x[i]):1.8e}   {np.cos(x[i]):1.8e}\")\n"
   ]
  },
  {
   "cell_type": "markdown",
   "id": "6ee71166",
   "metadata": {},
   "source": [
    "This last part of the code uses a for loop and prints out the first 10 values of x,sin(x),cos(x) with respect to the array."
   ]
  },
  {
   "cell_type": "code",
   "execution_count": null,
   "id": "0926a9ef",
   "metadata": {},
   "outputs": [],
   "source": [
    "for i in range(10):\n",
    "    print(f\"{x[i]:1.8e}   {np.sin(x[i]):1.8e}   {np.cos(x[i]):1.8e}\")"
   ]
  }
 ],
 "metadata": {
  "kernelspec": {
   "display_name": "Python 3 (ipykernel)",
   "language": "python",
   "name": "python3"
  },
  "language_info": {
   "codemirror_mode": {
    "name": "ipython",
    "version": 3
   },
   "file_extension": ".py",
   "mimetype": "text/x-python",
   "name": "python",
   "nbconvert_exporter": "python",
   "pygments_lexer": "ipython3",
   "version": "3.10.4"
  }
 },
 "nbformat": 4,
 "nbformat_minor": 5
}
