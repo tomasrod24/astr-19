{
 "cells": [
  {
   "cell_type": "code",
   "execution_count": null,
   "id": "0c6a3cbd",
   "metadata": {},
   "outputs": [],
   "source": [
    "import numpy as np\n",
    "import sep"
   ]
  },
  {
   "cell_type": "code",
   "execution_count": null,
   "id": "d9ce7acd",
   "metadata": {},
   "outputs": [],
   "source": [
    "from astropy.io import fits\n",
    "import matplotlib.pyplot as plt\n",
    "from matplotlib import rcParams\n",
    "from matplotlib.patches import Ellipse\n",
    "\n",
    "%matplotlib inline\n",
    "\n",
    "rcParams['figure.figsize'] = [10., 8.]"
   ]
  },
  {
   "cell_type": "markdown",
   "id": "e48b2d2b",
   "metadata": {},
   "source": [
    "# Read image into standard 2-d numpy array"
   ]
  },
  {
   "cell_type": "code",
   "execution_count": null,
   "id": "558dbf6f",
   "metadata": {},
   "outputs": [],
   "source": [
    "data = fits.getdata(\"C:/Users/tomas/Downloads/image.fits\")"
   ]
  },
  {
   "cell_type": "markdown",
   "id": "01de5f94",
   "metadata": {},
   "source": [
    "# Show the image"
   ]
  },
  {
   "cell_type": "code",
   "execution_count": null,
   "id": "d5c72064",
   "metadata": {},
   "outputs": [],
   "source": [
    "m = np.mean(data)\n",
    "s = np.std(data)\n",
    "plt.figure()\n",
    "plt.imshow(data,cmap = 'gray',interpolation='nearest',vmin=m-s, vmax=m+s, origin='lower')\n",
    "plt.colorbar()\n",
    "plt.savefig(\"OriginalImage.PNG\")"
   ]
  },
  {
   "cell_type": "code",
   "execution_count": null,
   "id": "9331587c",
   "metadata": {},
   "outputs": [],
   "source": [
    "bkg = sep.Background(data)"
   ]
  },
  {
   "cell_type": "markdown",
   "id": "4ce70dc4",
   "metadata": {},
   "source": [
    "# get a \"global\" mean and noise of the image background:\n"
   ]
  },
  {
   "cell_type": "code",
   "execution_count": null,
   "id": "49f5e94e",
   "metadata": {},
   "outputs": [],
   "source": [
    "print(bkg.globalback)\n",
    "print(bkg.globalrms)"
   ]
  },
  {
   "cell_type": "markdown",
   "id": "4e350607",
   "metadata": {},
   "source": [
    " # evaluate background as 2-d array, same size as original image"
   ]
  },
  {
   "cell_type": "code",
   "execution_count": null,
   "id": "cc8b5d4a",
   "metadata": {},
   "outputs": [],
   "source": [
    "bkg_image = bkg.back()"
   ]
  },
  {
   "cell_type": "markdown",
   "id": "e54a34b9",
   "metadata": {},
   "source": [
    "# show the background"
   ]
  },
  {
   "cell_type": "code",
   "execution_count": null,
   "id": "cc51f69f",
   "metadata": {},
   "outputs": [],
   "source": [
    "plt.imshow(bkg_image, interpolation='nearest', cmap='gray', origin='lower')\n",
    "plt.colorbar();\n",
    "plt.savefig(\"background.PNG\")"
   ]
  },
  {
   "cell_type": "markdown",
   "id": "03ab87da",
   "metadata": {},
   "source": [
    "# evaluate the background noise as 2-d array, same size as original image"
   ]
  },
  {
   "cell_type": "code",
   "execution_count": null,
   "id": "07dd645d",
   "metadata": {},
   "outputs": [],
   "source": [
    "bkg_rms = bkg.rms()"
   ]
  },
  {
   "cell_type": "markdown",
   "id": "31360043",
   "metadata": {},
   "source": [
    "# show the background noise"
   ]
  },
  {
   "cell_type": "code",
   "execution_count": null,
   "id": "23b67d6e",
   "metadata": {},
   "outputs": [],
   "source": [
    "plt.imshow(bkg_rms, interpolation='nearest', cmap='gray', origin='lower')\n",
    "plt.colorbar();\n",
    "plt.savefig(\"background_noise.PNG\")"
   ]
  },
  {
   "cell_type": "markdown",
   "id": "7c31f6d7",
   "metadata": {},
   "source": [
    "# subtract the background"
   ]
  },
  {
   "cell_type": "code",
   "execution_count": null,
   "id": "4d6e82bd",
   "metadata": {},
   "outputs": [],
   "source": [
    "data_sub = data - bkg"
   ]
  },
  {
   "cell_type": "code",
   "execution_count": null,
   "id": "323740ce",
   "metadata": {},
   "outputs": [],
   "source": [
    "objects = sep.extract(data_sub, 1.5, err=bkg.globalrms)\n",
    "len(objects)"
   ]
  },
  {
   "cell_type": "markdown",
   "id": "a49ce016",
   "metadata": {},
   "source": [
    "# plot background-subtracted image"
   ]
  },
  {
   "cell_type": "code",
   "execution_count": null,
   "id": "98d3360e",
   "metadata": {},
   "outputs": [],
   "source": [
    "fig, ax = plt.subplots()\n",
    "m, s = np.mean(data_sub), np.std(data_sub)\n",
    "im = ax.imshow(data_sub, interpolation='nearest', cmap='gray',\n",
    "               vmin=m-s, vmax=m+s, origin='lower')"
   ]
  },
  {
   "cell_type": "markdown",
   "id": "18dbe5a3",
   "metadata": {},
   "source": [
    "# plot an ellipse for each object"
   ]
  },
  {
   "cell_type": "code",
   "execution_count": null,
   "id": "cf17f5bd",
   "metadata": {},
   "outputs": [],
   "source": [
    "for i in range(len(objects)):\n",
    "    e = Ellipse(xy=(objects['x'][i], objects['y'][i]),\n",
    "                width=6*objects['a'][i],\n",
    "                height=6*objects['b'][i],\n",
    "                angle=objects['theta'][i] * 180. / np.pi)\n",
    "    e.set_facecolor('none')\n",
    "    e.set_edgecolor('red')\n",
    "    ax.add_artist(e)\n",
    "    \n",
    "plt.savefig(\"Ellipse_image.PNG\")"
   ]
  },
  {
   "cell_type": "code",
   "execution_count": null,
   "id": "388b46d2",
   "metadata": {},
   "outputs": [],
   "source": [
    "flux, fluxerr, flag = sep.sum_circle(data_sub, objects['x'], objects['y'],3.0, err=bkg.globalrms, gain=1.0)\n",
    "for i in range(10):\n",
    "    print(\"object {:d}: flux = {:f} +/- {:f}\".format(i, flux[i], fluxerr[i]))"
   ]
  }
 ],
 "metadata": {
  "kernelspec": {
   "display_name": "Python 3 (ipykernel)",
   "language": "python",
   "name": "python3"
  },
  "language_info": {
   "codemirror_mode": {
    "name": "ipython",
    "version": 3
   },
   "file_extension": ".py",
   "mimetype": "text/x-python",
   "name": "python",
   "nbconvert_exporter": "python",
   "pygments_lexer": "ipython3",
   "version": "3.10.4"
  }
 },
 "nbformat": 4,
 "nbformat_minor": 5
}
