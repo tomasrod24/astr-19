{
 "cells": [
  {
   "cell_type": "code",
   "execution_count": null,
   "id": "48313fce",
   "metadata": {},
   "outputs": [],
   "source": [
    "import matplotlib.pyplot as plt\n",
    "import numpy as np"
   ]
  },
  {
   "cell_type": "code",
   "execution_count": null,
   "id": "99e4008a",
   "metadata": {},
   "outputs": [],
   "source": [
    "x = np.random.uniform(0,1,1000)"
   ]
  },
  {
   "cell_type": "code",
   "execution_count": null,
   "id": "a9c1fcda",
   "metadata": {},
   "outputs": [],
   "source": [
    "plt.hist(x,bins = 100,alpha = 0.5,edgecolor = \"black\")\n",
    "plt.ylabel(\"N per bin\")\n",
    "plt.xlabel(\"x\")\n",
    "plt.savefig(\"TRodSession9.pdf\",bbox_inches = \"tight\", facecolor = \"white\")"
   ]
  }
 ],
 "metadata": {
  "kernelspec": {
   "display_name": "Python 3 (ipykernel)",
   "language": "python",
   "name": "python3"
  },
  "language_info": {
   "codemirror_mode": {
    "name": "ipython",
    "version": 3
   },
   "file_extension": ".py",
   "mimetype": "text/x-python",
   "name": "python",
   "nbconvert_exporter": "python",
   "pygments_lexer": "ipython3",
   "version": "3.10.4"
  }
 },
 "nbformat": 4,
 "nbformat_minor": 5
}
