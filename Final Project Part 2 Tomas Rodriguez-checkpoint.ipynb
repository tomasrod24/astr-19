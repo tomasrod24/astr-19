{
 "cells": [
  {
   "cell_type": "code",
   "execution_count": null,
   "id": "962e347c",
   "metadata": {},
   "outputs": [],
   "source": [
    "import numpy as np\n",
    "import sep"
   ]
  },
  {
   "cell_type": "code",
   "execution_count": null,
   "id": "6655630b",
   "metadata": {},
   "outputs": [],
   "source": [
    "from astropy.io import fits\n",
    "import matplotlib.pyplot as plt\n",
    "from matplotlib import rcParams\n",
    "\n",
    "%matplotlib inline\n",
    "\n",
    "rcParams['figure.figsize'] = [10., 8.]"
   ]
  },
  {
   "cell_type": "markdown",
   "id": "cb9782d7",
   "metadata": {},
   "source": [
    "# read image into standard 2-d numpy array"
   ]
  },
  {
   "cell_type": "code",
   "execution_count": null,
   "id": "c2bf13ed",
   "metadata": {},
   "outputs": [],
   "source": [
    "data = fits.getdata(\"C:/Users/tomas/Downloads/hlsp_hudf12_hst_wfc3ir_udfmain_f105w_v1.0_drz.fits\")"
   ]
  },
  {
   "cell_type": "code",
   "execution_count": null,
   "id": "9c6ba781",
   "metadata": {},
   "outputs": [],
   "source": [
    "m = np.mean(data)\n",
    "s = np.std(data)\n",
    "plt.figure()\n",
    "plt.imshow(data,cmap = 'gray',interpolation='nearest',vmin=m-s, vmax=m+s, origin='lower')\n",
    "plt.colorbar()\n",
    "plt.savefig(\"Hubble_Ultra_Deep_Field.PNG\")"
   ]
  },
  {
   "cell_type": "code",
   "execution_count": null,
   "id": "abfd3ec6",
   "metadata": {},
   "outputs": [],
   "source": [
    "data = data.byteswap().newbyteorder()\n",
    "bkg = sep.Background(data)\n",
    "\n",
    "# get a \"global\" mean and noise of the image background:\n",
    "print(bkg.globalback)\n",
    "print(bkg.globalrms)\n",
    "\n",
    "# evaluate background as 2-d array, same size as original image\n",
    "bkg_image = bkg.back()\n",
    "\n",
    "# show the background\n",
    "plt.imshow(bkg_image, interpolation='nearest', cmap='gray', origin='lower')\n",
    "plt.colorbar();\n",
    "plt.savefig(\"background.PNG\")"
   ]
  },
  {
   "cell_type": "code",
   "execution_count": null,
   "id": "0a5a147b",
   "metadata": {},
   "outputs": [],
   "source": [
    "# evaluate the background noise as 2-d array, same size as original image\n",
    "bkg_rms = bkg.rms()\n",
    "\n",
    "# show the background noise\n",
    "plt.imshow(bkg_rms, interpolation='nearest', cmap='gray', origin='lower')\n",
    "plt.colorbar();\n",
    "plt.savefig(\"backgroundNoise.PNG\")"
   ]
  },
  {
   "cell_type": "markdown",
   "id": "2e81641d",
   "metadata": {},
   "source": [
    "# subtract the background"
   ]
  },
  {
   "cell_type": "code",
   "execution_count": null,
   "id": "3666863f",
   "metadata": {},
   "outputs": [],
   "source": [
    "data_sub = data - bkg"
   ]
  },
  {
   "cell_type": "code",
   "execution_count": null,
   "id": "25de5fd5",
   "metadata": {},
   "outputs": [],
   "source": [
    "objects = sep.extract(data_sub, 1.5, err=bkg.globalrms)\n",
    "len(objects)"
   ]
  },
  {
   "cell_type": "markdown",
   "id": "1b6b28ba",
   "metadata": {},
   "source": [
    "# plot background-subtracted image"
   ]
  },
  {
   "cell_type": "code",
   "execution_count": null,
   "id": "e604b7c7",
   "metadata": {},
   "outputs": [],
   "source": [
    "fig, ax = plt.subplots()\n",
    "m, s = np.mean(data_sub), np.std(data_sub)\n",
    "im = ax.imshow(data_sub, interpolation='nearest', cmap='gray',\n",
    "               vmin=m-s, vmax=m+s, origin='lower')"
   ]
  },
  {
   "cell_type": "markdown",
   "id": "7acc02f7",
   "metadata": {},
   "source": [
    "# plot an ellipse for each object"
   ]
  },
  {
   "cell_type": "code",
   "execution_count": null,
   "id": "93804334",
   "metadata": {},
   "outputs": [],
   "source": [
    "for i in range(len(objects)):\n",
    "    e = Ellipse(xy=(objects['x'][i], objects['y'][i]),\n",
    "                width=6*objects['a'][i],\n",
    "                height=6*objects['b'][i],\n",
    "                angle=objects['theta'][i] * 180. / np.pi)\n",
    "    e.set_facecolor('none')\n",
    "    e.set_edgecolor('red')\n",
    "    ax.add_artist(e)\n",
    "    \n",
    "plt.savefig(\"PlottedEllipses.PNG\")"
   ]
  },
  {
   "cell_type": "code",
   "execution_count": null,
   "id": "065bbc5d",
   "metadata": {},
   "outputs": [],
   "source": [
    "flux, fluxerr, flag = sep.sum_circle(data_sub, objects['x'], objects['y'],3.0, err=bkg.globalrms, gain=1.0)\n",
    "for i in range(10):\n",
    "    print(\"object {:d}: flux = {:f} +/- {:f}\".format(i, flux[i], fluxerr[i]))"
   ]
  },
  {
   "cell_type": "code",
   "execution_count": null,
   "id": "7187aef7",
   "metadata": {},
   "outputs": [],
   "source": [
    "width = 0.5\n",
    "histmin = flux.min()\n",
    "histmax = flux.max() + width\n",
    "bins = np.arange(histmin,histmax,width)\n",
    "plt.hist(flux,bins=bins,alpha=0.5)"
   ]
  },
  {
   "cell_type": "code",
   "execution_count": null,
   "id": "0d86b8e3",
   "metadata": {},
   "outputs": [],
   "source": [
    "mean_flux = np.mean(flux)\n",
    "median_flux = np.median(flux)\n",
    "std_flux = np.std(flux)\n",
    "print(\"Mean of distribution of fluxes\", mean_flux)\n",
    "print(\"Median of distribution of fluxes\", median_flux)\n",
    "print(\"Standard deviation of distribution of fluxes\", std_flux)"
   ]
  },
  {
   "cell_type": "markdown",
   "id": "5a1e1b1f",
   "metadata": {},
   "source": [
    "# Define file names, read in data,and getting the image"
   ]
  },
  {
   "cell_type": "code",
   "execution_count": null,
   "id": "8599bbb3",
   "metadata": {},
   "outputs": [],
   "source": [
    "fdata1 = \"hlsp_hudf12_hst_wfc3ir_udfmain_f105w_v1.0_drz.fits\"\n",
    "fdata2 = \"hlsp_hudf12_hst_wfc3ir_udfmain_f125w_v1.0_drz.fits\"\n",
    "fdata3 = \"hlsp_hudf12_hst_wfc3ir_udfmain_f160w_v1.0_drz.fits\"\n",
    "\n",
    "hdu1 = fits.open(fdata1)\n",
    "hdu2 = fits.open(fdata2)\n",
    "hdu3 = fits.open(fdata3)\n",
    "\n",
    "data1 = hdu1[0].data\n",
    "data2 = hdu2[0].data\n",
    "data3 = hdu3[0].data"
   ]
  },
  {
   "cell_type": "markdown",
   "id": "e8d8cad6",
   "metadata": {},
   "source": [
    "# Functions for rescaling the data and quick plot of the rescaled data"
   ]
  },
  {
   "cell_type": "code",
   "execution_count": null,
   "id": "4d98b6f3",
   "metadata": {},
   "outputs": [],
   "source": [
    "def rescale_image(data):\n",
    "    pdata_tmp = data.copy()\n",
    "    n = np.nanmean(pdata_tmp)\n",
    "    vplmin = n/2.\n",
    "    vpmin = np.log10(vplmin)\n",
    "    vpmax = np.log10(n*100.)\n",
    "    pdata_tmp[pdata_tmp<vplmin]=vplmin\n",
    "    pdata_tmp = np.log10(pdata_tmp)\n",
    "    return pdata_tmp,vpmin,vpmax\n",
    "\n",
    "def fits_plotted_data(data,fnx=10,fny=10):\n",
    "    f = plt.figure(figsize=(fnx,fny))\n",
    "    pdata_tmp,vpmin,vpmax = rescale_image(data)\n",
    "    plt.imshow(pdata_tmp,vmin=vpmin,vmax=vpmax)\n",
    "    \n",
    "fits_plotted_data(data1)"
   ]
  },
  {
   "cell_type": "markdown",
   "id": "ed31fd85",
   "metadata": {},
   "source": [
    "# Making a three color image by using the rescaled images, limiting the data to be between min and max values, and using np.zeros()"
   ]
  },
  {
   "cell_type": "code",
   "execution_count": null,
   "id": "e43fea26",
   "metadata": {},
   "outputs": [],
   "source": [
    "data1_res,d1min,d1max = rescale_image(data1)\n",
    "data2_res,d2min,d2max = rescale_image(data2)\n",
    "data3_res,d3min,d3max = rescale_image(data3)\n",
    "\n",
    "data1_res[data1_res<d1min]=d1min\n",
    "data1_res[data1_res>d1max]=d1max\n",
    "\n",
    "data2_res[data2_res<d1min]=d2min\n",
    "data2_res[data2_res>d1max]=d2max\n",
    "\n",
    "data3_res[data3_res<d1min]=d3min\n",
    "data3_res[data3_res>d1max]=d3max\n",
    "\n",
    "rgb = np.zeros((data1_res.shape[0],data1_res.shape[1],3))\n",
    "rgb[:,:,0]= (data1_res-d1min)/(d1max-d1min)\n",
    "rgb[:,:,1]= (data2_res-d2min)/(d2max-d2min)\n",
    "rgb[:,:,2]= (data3_res-d3min)/(d3max-d3min)"
   ]
  },
  {
   "cell_type": "markdown",
   "id": "81673c50",
   "metadata": {},
   "source": [
    "# Plotting the RGB image and saving as a PNG"
   ]
  },
  {
   "cell_type": "code",
   "execution_count": null,
   "id": "7d0b0124",
   "metadata": {},
   "outputs": [],
   "source": [
    "f,ax = plt.subplots(1,1,figsize = (20,20))\n",
    "ax.axis('off')\n",
    "ax.imshow(rgb)\n",
    "plt.savefig('three_color_image.png',bbox_inches = 'tight',pad_inches=0, dpi=600)"
   ]
  }
 ],
 "metadata": {
  "kernelspec": {
   "display_name": "Python 3 (ipykernel)",
   "language": "python",
   "name": "python3"
  },
  "language_info": {
   "codemirror_mode": {
    "name": "ipython",
    "version": 3
   },
   "file_extension": ".py",
   "mimetype": "text/x-python",
   "name": "python",
   "nbconvert_exporter": "python",
   "pygments_lexer": "ipython3",
   "version": "3.10.4"
  }
 },
 "nbformat": 4,
 "nbformat_minor": 5
}
