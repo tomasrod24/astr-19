{
 "cells": [
  {
   "cell_type": "code",
   "execution_count": null,
   "id": "dff397a8",
   "metadata": {},
   "outputs": [],
   "source": [
    "import matplotlib.pyplot as plt\n",
    "import numpy as np"
   ]
  },
  {
   "cell_type": "code",
   "execution_count": null,
   "id": "cbff61e1",
   "metadata": {},
   "outputs": [],
   "source": [
    "x = np.random.triangular(-3,0,8,1000)"
   ]
  },
  {
   "cell_type": "code",
   "execution_count": null,
   "id": "c1257a00",
   "metadata": {},
   "outputs": [],
   "source": [
    "plt.hist(x,bins = 100,alpha = 0.5,edgecolor = \"black\")\n",
    "plt.ylabel(\"N per bin\")\n",
    "plt.xlabel(\"x\")\n",
    "plt.savefig(\"TRodSession10.pdf\",bbox_inches = \"tight\", facecolor = \"white\")"
   ]
  }
 ],
 "metadata": {
  "kernelspec": {
   "display_name": "Python 3 (ipykernel)",
   "language": "python",
   "name": "python3"
  },
  "language_info": {
   "codemirror_mode": {
    "name": "ipython",
    "version": 3
   },
   "file_extension": ".py",
   "mimetype": "text/x-python",
   "name": "python",
   "nbconvert_exporter": "python",
   "pygments_lexer": "ipython3",
   "version": "3.10.4"
  }
 },
 "nbformat": 4,
 "nbformat_minor": 5
}
