{
 "cells": [
  {
   "cell_type": "code",
   "execution_count": null,
   "id": "e95b0259",
   "metadata": {},
   "outputs": [],
   "source": [
    "import matplotlib.pyplot as plt\n",
    "import numpy as np"
   ]
  },
  {
   "cell_type": "code",
   "execution_count": null,
   "id": "8a8857e8",
   "metadata": {},
   "outputs": [],
   "source": [
    "x = np.linspace(0,1,100)\n",
    "def expFunction(x):\n",
    "    return exp(x)"
   ]
  },
  {
   "cell_type": "code",
   "execution_count": null,
   "id": "50a0b3bd",
   "metadata": {},
   "outputs": [],
   "source": [
    "y = np.exp(x)\n",
    "plt.plot(x,y)\n",
    "plt.plot(y,x)\n",
    "plt.xlabel('Time in Miliseconds')\n",
    "plt.ylabel('Awesomeness')\n",
    "plt.savefig(\"TRodSession7.pdf\",bbox_inches = \"tight\")"
   ]
  }
 ],
 "metadata": {
  "kernelspec": {
   "display_name": "Python 3 (ipykernel)",
   "language": "python",
   "name": "python3"
  },
  "language_info": {
   "codemirror_mode": {
    "name": "ipython",
    "version": 3
   },
   "file_extension": ".py",
   "mimetype": "text/x-python",
   "name": "python",
   "nbconvert_exporter": "python",
   "pygments_lexer": "ipython3",
   "version": "3.10.4"
  }
 },
 "nbformat": 4,
 "nbformat_minor": 5
}
